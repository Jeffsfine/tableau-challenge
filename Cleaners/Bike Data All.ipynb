{
 "cells": [
  {
   "cell_type": "code",
   "execution_count": 2,
   "metadata": {},
   "outputs": [],
   "source": [
    "import matplotlib.pyplot as plt\n",
    "import pandas as pd\n",
    "import numpy as np\n",
    "import os"
   ]
  },
  {
   "cell_type": "code",
   "execution_count": 3,
   "metadata": {},
   "outputs": [],
   "source": [
    "jan = os.path.join(\"../Combined .csv/2019_trip_data.csv\")\n",
    "feb = os.path.join(\"../Combined .csv/2020_trip_data.csv\")\n",
    "mar = os.path.join(\"../Combined .csv/2021_trip_data.csv\")\n",
    "\n",
    "jan_trip_data = pd.read_csv(jan)\n",
    "feb_trip_data = pd.read_csv(feb)\n",
    "mar_trip_data = pd.read_csv(mar)\n"
   ]
  },
  {
   "cell_type": "code",
   "execution_count": 4,
   "metadata": {},
   "outputs": [
    {
     "output_type": "execute_result",
     "data": {
      "text/plain": [
       "   Unnamed: 0  tripduration                 starttime  \\\n",
       "0           0           201  2019-01-01 03:09:09.7110   \n",
       "1           1           505  2019-01-01 05:18:00.1060   \n",
       "2           2           756  2019-01-01 10:36:33.3400   \n",
       "3           3          1575  2019-01-01 12:43:38.6430   \n",
       "4           4          1566  2019-01-01 12:43:39.6010   \n",
       "\n",
       "                   stoptime  start station id start station name  \\\n",
       "0  2019-01-01 03:12:30.8790              3183     Exchange Place   \n",
       "1  2019-01-01 05:26:25.9050              3183     Exchange Place   \n",
       "2  2019-01-01 10:49:10.2600              3183     Exchange Place   \n",
       "3  2019-01-01 13:09:54.5280              3183     Exchange Place   \n",
       "4  2019-01-01 13:09:46.5100              3183     Exchange Place   \n",
       "\n",
       "   start station latitude  start station longitude  end station id  \\\n",
       "0               40.716247               -74.033459            3214   \n",
       "1               40.716247               -74.033459            3638   \n",
       "2               40.716247               -74.033459            3192   \n",
       "3               40.716247               -74.033459            3638   \n",
       "4               40.716247               -74.033459            3638   \n",
       "\n",
       "     end station name  end station latitude  end station longitude  bikeid  \\\n",
       "0    Essex Light Rail             40.712774             -74.036486   29612   \n",
       "1       Washington St             40.724294             -74.035483   29213   \n",
       "2  Liberty Light Rail             40.711242             -74.055701   26164   \n",
       "3       Washington St             40.724294             -74.035483   29672   \n",
       "4       Washington St             40.724294             -74.035483   29522   \n",
       "\n",
       "     usertype  birth year  gender  \n",
       "0  Subscriber        1993       1  \n",
       "1  Subscriber        1972       2  \n",
       "2  Subscriber        1985       1  \n",
       "3    Customer        1969       0  \n",
       "4    Customer        1969       0  "
      ],
      "text/html": "<div>\n<style scoped>\n    .dataframe tbody tr th:only-of-type {\n        vertical-align: middle;\n    }\n\n    .dataframe tbody tr th {\n        vertical-align: top;\n    }\n\n    .dataframe thead th {\n        text-align: right;\n    }\n</style>\n<table border=\"1\" class=\"dataframe\">\n  <thead>\n    <tr style=\"text-align: right;\">\n      <th></th>\n      <th>Unnamed: 0</th>\n      <th>tripduration</th>\n      <th>starttime</th>\n      <th>stoptime</th>\n      <th>start station id</th>\n      <th>start station name</th>\n      <th>start station latitude</th>\n      <th>start station longitude</th>\n      <th>end station id</th>\n      <th>end station name</th>\n      <th>end station latitude</th>\n      <th>end station longitude</th>\n      <th>bikeid</th>\n      <th>usertype</th>\n      <th>birth year</th>\n      <th>gender</th>\n    </tr>\n  </thead>\n  <tbody>\n    <tr>\n      <th>0</th>\n      <td>0</td>\n      <td>201</td>\n      <td>2019-01-01 03:09:09.7110</td>\n      <td>2019-01-01 03:12:30.8790</td>\n      <td>3183</td>\n      <td>Exchange Place</td>\n      <td>40.716247</td>\n      <td>-74.033459</td>\n      <td>3214</td>\n      <td>Essex Light Rail</td>\n      <td>40.712774</td>\n      <td>-74.036486</td>\n      <td>29612</td>\n      <td>Subscriber</td>\n      <td>1993</td>\n      <td>1</td>\n    </tr>\n    <tr>\n      <th>1</th>\n      <td>1</td>\n      <td>505</td>\n      <td>2019-01-01 05:18:00.1060</td>\n      <td>2019-01-01 05:26:25.9050</td>\n      <td>3183</td>\n      <td>Exchange Place</td>\n      <td>40.716247</td>\n      <td>-74.033459</td>\n      <td>3638</td>\n      <td>Washington St</td>\n      <td>40.724294</td>\n      <td>-74.035483</td>\n      <td>29213</td>\n      <td>Subscriber</td>\n      <td>1972</td>\n      <td>2</td>\n    </tr>\n    <tr>\n      <th>2</th>\n      <td>2</td>\n      <td>756</td>\n      <td>2019-01-01 10:36:33.3400</td>\n      <td>2019-01-01 10:49:10.2600</td>\n      <td>3183</td>\n      <td>Exchange Place</td>\n      <td>40.716247</td>\n      <td>-74.033459</td>\n      <td>3192</td>\n      <td>Liberty Light Rail</td>\n      <td>40.711242</td>\n      <td>-74.055701</td>\n      <td>26164</td>\n      <td>Subscriber</td>\n      <td>1985</td>\n      <td>1</td>\n    </tr>\n    <tr>\n      <th>3</th>\n      <td>3</td>\n      <td>1575</td>\n      <td>2019-01-01 12:43:38.6430</td>\n      <td>2019-01-01 13:09:54.5280</td>\n      <td>3183</td>\n      <td>Exchange Place</td>\n      <td>40.716247</td>\n      <td>-74.033459</td>\n      <td>3638</td>\n      <td>Washington St</td>\n      <td>40.724294</td>\n      <td>-74.035483</td>\n      <td>29672</td>\n      <td>Customer</td>\n      <td>1969</td>\n      <td>0</td>\n    </tr>\n    <tr>\n      <th>4</th>\n      <td>4</td>\n      <td>1566</td>\n      <td>2019-01-01 12:43:39.6010</td>\n      <td>2019-01-01 13:09:46.5100</td>\n      <td>3183</td>\n      <td>Exchange Place</td>\n      <td>40.716247</td>\n      <td>-74.033459</td>\n      <td>3638</td>\n      <td>Washington St</td>\n      <td>40.724294</td>\n      <td>-74.035483</td>\n      <td>29522</td>\n      <td>Customer</td>\n      <td>1969</td>\n      <td>0</td>\n    </tr>\n  </tbody>\n</table>\n</div>"
     },
     "metadata": {},
     "execution_count": 4
    }
   ],
   "source": [
    "jan_trip_data.head()"
   ]
  },
  {
   "cell_type": "code",
   "execution_count": 5,
   "metadata": {},
   "outputs": [],
   "source": [
    "#merge tabels\n",
    "framesII = [jan_trip_data, \n",
    "            feb_trip_data, \n",
    "            mar_trip_data, \n",
    "            ]"
   ]
  },
  {
   "cell_type": "code",
   "execution_count": 6,
   "metadata": {
    "collapsed": true
   },
   "outputs": [],
   "source": [
    "resultII = pd.concat(framesII)"
   ]
  },
  {
   "cell_type": "code",
   "execution_count": 7,
   "metadata": {
    "collapsed": true
   },
   "outputs": [],
   "source": [
    "resultII.to_csv(\"../Combined .csv/all_trip_data.csv\")"
   ]
  },
  {
   "cell_type": "code",
   "execution_count": 8,
   "metadata": {},
   "outputs": [],
   "source": [
    " combined_csv = os.path.join(\"../Combined .csv/all_trip_data.csv\" )\n",
    " trip_history = pd.read_csv(combined_csv)"
   ]
  },
  {
   "cell_type": "code",
   "execution_count": 9,
   "metadata": {},
   "outputs": [
    {
     "output_type": "execute_result",
     "data": {
      "text/plain": [
       "        Unnamed: 0  Unnamed: 0.1  tripduration                 starttime  \\\n",
       "0                0             0           201  2019-01-01 03:09:09.7110   \n",
       "1                1             1           505  2019-01-01 05:18:00.1060   \n",
       "2                2             2           756  2019-01-01 10:36:33.3400   \n",
       "3                3             3          1575  2019-01-01 12:43:38.6430   \n",
       "4                4             4          1566  2019-01-01 12:43:39.6010   \n",
       "...            ...           ...           ...                       ...   \n",
       "774936       33187         16838           493  2021-03-31 23:49:04.6750   \n",
       "774937       33188         16839           296  2021-03-31 23:49:33.7240   \n",
       "774938       33189         16840           346  2021-03-31 23:53:36.2020   \n",
       "774939       33190         16841           872  2021-03-31 23:54:36.3950   \n",
       "774940       33191         16842           587  2021-03-31 23:58:04.5740   \n",
       "\n",
       "                        stoptime  start station id     start station name  \\\n",
       "0       2019-01-01 03:12:30.8790              3183         Exchange Place   \n",
       "1       2019-01-01 05:26:25.9050              3183         Exchange Place   \n",
       "2       2019-01-01 10:49:10.2600              3183         Exchange Place   \n",
       "3       2019-01-01 13:09:54.5280              3183         Exchange Place   \n",
       "4       2019-01-01 13:09:46.5100              3183         Exchange Place   \n",
       "...                          ...               ...                    ...   \n",
       "774936  2021-03-31 23:57:17.7900              3185              City Hall   \n",
       "774937  2021-03-31 23:54:29.8450              3186          Grove St PATH   \n",
       "774938  2021-03-31 23:59:22.2370              3187              Warren St   \n",
       "774939  2021-04-01 00:09:09.1080              3193           Lincoln Park   \n",
       "774940  2021-04-01 00:07:52.2170              3225  Baldwin at Montgomery   \n",
       "\n",
       "        start station latitude  start station longitude  end station id  \\\n",
       "0                    40.716247               -74.033459            3214   \n",
       "1                    40.716247               -74.033459            3638   \n",
       "2                    40.716247               -74.033459            3192   \n",
       "3                    40.716247               -74.033459            3638   \n",
       "4                    40.716247               -74.033459            3638   \n",
       "...                        ...                      ...             ...   \n",
       "774936               40.717733               -74.043845            3192   \n",
       "774937               40.719586               -74.043117            3203   \n",
       "774938               40.721124               -74.038051            3199   \n",
       "774939               40.724605               -74.078406            3206   \n",
       "774940               40.723659               -74.064194            3276   \n",
       "\n",
       "          end station name  end station latitude  end station longitude  \\\n",
       "0         Essex Light Rail             40.712774             -74.036486   \n",
       "1            Washington St             40.724294             -74.035483   \n",
       "2       Liberty Light Rail             40.711242             -74.055701   \n",
       "3            Washington St             40.724294             -74.035483   \n",
       "4            Washington St             40.724294             -74.035483   \n",
       "...                    ...                   ...                    ...   \n",
       "774936  Liberty Light Rail             40.711242             -74.055701   \n",
       "774937       Hamilton Park             40.727596             -74.044247   \n",
       "774938        Newport Pkwy             40.728745             -74.032108   \n",
       "774939             Hilltop             40.731169             -74.057574   \n",
       "774940    Marin Light Rail             40.714584             -74.042817   \n",
       "\n",
       "        bikeid    usertype  birth year  gender  \n",
       "0        29612  Subscriber        1993       1  \n",
       "1        29213  Subscriber        1972       2  \n",
       "2        26164  Subscriber        1985       1  \n",
       "3        29672    Customer        1969       0  \n",
       "4        29522    Customer        1969       0  \n",
       "...        ...         ...         ...     ...  \n",
       "774936   45261    Customer        1970       0  \n",
       "774937   45499    Customer        1970       0  \n",
       "774938   42635    Customer        1970       0  \n",
       "774939   27102    Customer        1970       0  \n",
       "774940   45940    Customer        1970       0  \n",
       "\n",
       "[774941 rows x 17 columns]"
      ],
      "text/html": "<div>\n<style scoped>\n    .dataframe tbody tr th:only-of-type {\n        vertical-align: middle;\n    }\n\n    .dataframe tbody tr th {\n        vertical-align: top;\n    }\n\n    .dataframe thead th {\n        text-align: right;\n    }\n</style>\n<table border=\"1\" class=\"dataframe\">\n  <thead>\n    <tr style=\"text-align: right;\">\n      <th></th>\n      <th>Unnamed: 0</th>\n      <th>Unnamed: 0.1</th>\n      <th>tripduration</th>\n      <th>starttime</th>\n      <th>stoptime</th>\n      <th>start station id</th>\n      <th>start station name</th>\n      <th>start station latitude</th>\n      <th>start station longitude</th>\n      <th>end station id</th>\n      <th>end station name</th>\n      <th>end station latitude</th>\n      <th>end station longitude</th>\n      <th>bikeid</th>\n      <th>usertype</th>\n      <th>birth year</th>\n      <th>gender</th>\n    </tr>\n  </thead>\n  <tbody>\n    <tr>\n      <th>0</th>\n      <td>0</td>\n      <td>0</td>\n      <td>201</td>\n      <td>2019-01-01 03:09:09.7110</td>\n      <td>2019-01-01 03:12:30.8790</td>\n      <td>3183</td>\n      <td>Exchange Place</td>\n      <td>40.716247</td>\n      <td>-74.033459</td>\n      <td>3214</td>\n      <td>Essex Light Rail</td>\n      <td>40.712774</td>\n      <td>-74.036486</td>\n      <td>29612</td>\n      <td>Subscriber</td>\n      <td>1993</td>\n      <td>1</td>\n    </tr>\n    <tr>\n      <th>1</th>\n      <td>1</td>\n      <td>1</td>\n      <td>505</td>\n      <td>2019-01-01 05:18:00.1060</td>\n      <td>2019-01-01 05:26:25.9050</td>\n      <td>3183</td>\n      <td>Exchange Place</td>\n      <td>40.716247</td>\n      <td>-74.033459</td>\n      <td>3638</td>\n      <td>Washington St</td>\n      <td>40.724294</td>\n      <td>-74.035483</td>\n      <td>29213</td>\n      <td>Subscriber</td>\n      <td>1972</td>\n      <td>2</td>\n    </tr>\n    <tr>\n      <th>2</th>\n      <td>2</td>\n      <td>2</td>\n      <td>756</td>\n      <td>2019-01-01 10:36:33.3400</td>\n      <td>2019-01-01 10:49:10.2600</td>\n      <td>3183</td>\n      <td>Exchange Place</td>\n      <td>40.716247</td>\n      <td>-74.033459</td>\n      <td>3192</td>\n      <td>Liberty Light Rail</td>\n      <td>40.711242</td>\n      <td>-74.055701</td>\n      <td>26164</td>\n      <td>Subscriber</td>\n      <td>1985</td>\n      <td>1</td>\n    </tr>\n    <tr>\n      <th>3</th>\n      <td>3</td>\n      <td>3</td>\n      <td>1575</td>\n      <td>2019-01-01 12:43:38.6430</td>\n      <td>2019-01-01 13:09:54.5280</td>\n      <td>3183</td>\n      <td>Exchange Place</td>\n      <td>40.716247</td>\n      <td>-74.033459</td>\n      <td>3638</td>\n      <td>Washington St</td>\n      <td>40.724294</td>\n      <td>-74.035483</td>\n      <td>29672</td>\n      <td>Customer</td>\n      <td>1969</td>\n      <td>0</td>\n    </tr>\n    <tr>\n      <th>4</th>\n      <td>4</td>\n      <td>4</td>\n      <td>1566</td>\n      <td>2019-01-01 12:43:39.6010</td>\n      <td>2019-01-01 13:09:46.5100</td>\n      <td>3183</td>\n      <td>Exchange Place</td>\n      <td>40.716247</td>\n      <td>-74.033459</td>\n      <td>3638</td>\n      <td>Washington St</td>\n      <td>40.724294</td>\n      <td>-74.035483</td>\n      <td>29522</td>\n      <td>Customer</td>\n      <td>1969</td>\n      <td>0</td>\n    </tr>\n    <tr>\n      <th>...</th>\n      <td>...</td>\n      <td>...</td>\n      <td>...</td>\n      <td>...</td>\n      <td>...</td>\n      <td>...</td>\n      <td>...</td>\n      <td>...</td>\n      <td>...</td>\n      <td>...</td>\n      <td>...</td>\n      <td>...</td>\n      <td>...</td>\n      <td>...</td>\n      <td>...</td>\n      <td>...</td>\n      <td>...</td>\n    </tr>\n    <tr>\n      <th>774936</th>\n      <td>33187</td>\n      <td>16838</td>\n      <td>493</td>\n      <td>2021-03-31 23:49:04.6750</td>\n      <td>2021-03-31 23:57:17.7900</td>\n      <td>3185</td>\n      <td>City Hall</td>\n      <td>40.717733</td>\n      <td>-74.043845</td>\n      <td>3192</td>\n      <td>Liberty Light Rail</td>\n      <td>40.711242</td>\n      <td>-74.055701</td>\n      <td>45261</td>\n      <td>Customer</td>\n      <td>1970</td>\n      <td>0</td>\n    </tr>\n    <tr>\n      <th>774937</th>\n      <td>33188</td>\n      <td>16839</td>\n      <td>296</td>\n      <td>2021-03-31 23:49:33.7240</td>\n      <td>2021-03-31 23:54:29.8450</td>\n      <td>3186</td>\n      <td>Grove St PATH</td>\n      <td>40.719586</td>\n      <td>-74.043117</td>\n      <td>3203</td>\n      <td>Hamilton Park</td>\n      <td>40.727596</td>\n      <td>-74.044247</td>\n      <td>45499</td>\n      <td>Customer</td>\n      <td>1970</td>\n      <td>0</td>\n    </tr>\n    <tr>\n      <th>774938</th>\n      <td>33189</td>\n      <td>16840</td>\n      <td>346</td>\n      <td>2021-03-31 23:53:36.2020</td>\n      <td>2021-03-31 23:59:22.2370</td>\n      <td>3187</td>\n      <td>Warren St</td>\n      <td>40.721124</td>\n      <td>-74.038051</td>\n      <td>3199</td>\n      <td>Newport Pkwy</td>\n      <td>40.728745</td>\n      <td>-74.032108</td>\n      <td>42635</td>\n      <td>Customer</td>\n      <td>1970</td>\n      <td>0</td>\n    </tr>\n    <tr>\n      <th>774939</th>\n      <td>33190</td>\n      <td>16841</td>\n      <td>872</td>\n      <td>2021-03-31 23:54:36.3950</td>\n      <td>2021-04-01 00:09:09.1080</td>\n      <td>3193</td>\n      <td>Lincoln Park</td>\n      <td>40.724605</td>\n      <td>-74.078406</td>\n      <td>3206</td>\n      <td>Hilltop</td>\n      <td>40.731169</td>\n      <td>-74.057574</td>\n      <td>27102</td>\n      <td>Customer</td>\n      <td>1970</td>\n      <td>0</td>\n    </tr>\n    <tr>\n      <th>774940</th>\n      <td>33191</td>\n      <td>16842</td>\n      <td>587</td>\n      <td>2021-03-31 23:58:04.5740</td>\n      <td>2021-04-01 00:07:52.2170</td>\n      <td>3225</td>\n      <td>Baldwin at Montgomery</td>\n      <td>40.723659</td>\n      <td>-74.064194</td>\n      <td>3276</td>\n      <td>Marin Light Rail</td>\n      <td>40.714584</td>\n      <td>-74.042817</td>\n      <td>45940</td>\n      <td>Customer</td>\n      <td>1970</td>\n      <td>0</td>\n    </tr>\n  </tbody>\n</table>\n<p>774941 rows × 17 columns</p>\n</div>"
     },
     "metadata": {},
     "execution_count": 9
    }
   ],
   "source": [
    "trip_history"
   ]
  },
  {
   "cell_type": "code",
   "execution_count": 10,
   "metadata": {},
   "outputs": [
    {
     "output_type": "execute_result",
     "data": {
      "text/plain": [
       "Unnamed: 0                 774941\n",
       "Unnamed: 0.1               774941\n",
       "tripduration               774941\n",
       "starttime                  774941\n",
       "stoptime                   774941\n",
       "start station id           774941\n",
       "start station name         774941\n",
       "start station latitude     774941\n",
       "start station longitude    774941\n",
       "end station id             774941\n",
       "end station name           774941\n",
       "end station latitude       774941\n",
       "end station longitude      774941\n",
       "bikeid                     774941\n",
       "usertype                   774941\n",
       "birth year                 774941\n",
       "gender                     774941\n",
       "dtype: int64"
      ]
     },
     "metadata": {},
     "execution_count": 10
    }
   ],
   "source": [
    "trip_history.count()"
   ]
  },
  {
   "cell_type": "code",
   "execution_count": null,
   "metadata": {
    "collapsed": true
   },
   "outputs": [],
   "source": []
  }
 ],
 "metadata": {
  "kernelspec": {
   "name": "python383jvsc74a57bd05871f9ceaeb58903a062280df9e35c51c3f2838963fa6a6e83036660d9d47fa0",
   "display_name": "Python 3.8.3 64-bit (conda)"
  },
  "language_info": {
   "codemirror_mode": {
    "name": "ipython",
    "version": 3
   },
   "file_extension": ".py",
   "mimetype": "text/x-python",
   "name": "python",
   "nbconvert_exporter": "python",
   "pygments_lexer": "ipython3",
   "version": "3.8.3"
  }
 },
 "nbformat": 4,
 "nbformat_minor": 2
}
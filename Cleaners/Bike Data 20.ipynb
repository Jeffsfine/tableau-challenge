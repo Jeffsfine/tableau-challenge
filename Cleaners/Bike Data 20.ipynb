{
 "cells": [
  {
   "cell_type": "code",
   "execution_count": 1,
   "metadata": {},
   "outputs": [],
   "source": [
    "import matplotlib.pyplot as plt\n",
    "import pandas as pd\n",
    "import numpy as np\n",
    "import os"
   ]
  },
  {
   "cell_type": "code",
   "execution_count": 2,
   "metadata": {},
   "outputs": [],
   "source": [
    "jan = os.path.join(\"../raw .csv/2020/JC-202001-citibike-tripdata.csv\")\n",
    "feb = os.path.join(\"../raw .csv/2020/JC-202002-citibike-tripdata.csv\")\n",
    "mar = os.path.join(\"../raw .csv/2020/JC-202003-citibike-tripdata.csv\")\n",
    "apr = os.path.join(\"../raw .csv/2020/JC-202004-citibike-tripdata.csv\")\n",
    "may = os.path.join(\"../raw .csv/2020/JC-202005-citibike-tripdata.csv\")\n",
    "jun = os.path.join(\"../raw .csv/2020/JC-202006-citibike-tripdata.csv\")\n",
    "jul = os.path.join(\"../raw .csv/2020/JC-202007-citibike-tripdata.csv\")\n",
    "aug = os.path.join(\"../raw .csv/2020/JC-202008-citibike-tripdata.csv\")\n",
    "sep = os.path.join(\"../raw .csv/2020/JC-202009-citibike-tripdata.csv\")\n",
    "oct = os.path.join(\"../raw .csv/2020/JC-202010-citibike-tripdata.csv\")\n",
    "nov = os.path.join(\"../raw .csv/2020/JC-202011-citibike-tripdata.csv\")\n",
    "dec = os.path.join(\"../raw .csv/2020/JC-202012-citibike-tripdata.csv\")\n",
    "\n",
    "jan_trip_data = pd.read_csv(jan)\n",
    "feb_trip_data = pd.read_csv(feb)\n",
    "mar_trip_data = pd.read_csv(mar)\n",
    "apr_trip_data = pd.read_csv(apr)\n",
    "may_trip_data = pd.read_csv(may)\n",
    "jun_trip_data = pd.read_csv(jun)\n",
    "jul_trip_data = pd.read_csv(jul)\n",
    "aug_trip_data = pd.read_csv(aug)\n",
    "sep_trip_data = pd.read_csv(sep)\n",
    "oct_trip_data = pd.read_csv(oct)\n",
    "nov_trip_data = pd.read_csv(nov)\n",
    "dec_trip_data = pd.read_csv(dec)"
   ]
  },
  {
   "cell_type": "code",
   "execution_count": 3,
   "metadata": {},
   "outputs": [
    {
     "output_type": "execute_result",
     "data": {
      "text/plain": [
       "   tripduration                 starttime                  stoptime  \\\n",
       "0           226  2020-01-01 00:04:50.1920  2020-01-01 00:08:37.0370   \n",
       "1           377  2020-01-01 00:16:01.6700  2020-01-01 00:22:19.0800   \n",
       "2           288  2020-01-01 00:17:33.8770  2020-01-01 00:22:22.4420   \n",
       "3           435  2020-01-01 00:32:05.9020  2020-01-01 00:39:21.0660   \n",
       "4           231  2020-01-01 00:46:19.6780  2020-01-01 00:50:11.3440   \n",
       "\n",
       "   start station id start station name  start station latitude  \\\n",
       "0              3186      Grove St PATH               40.719586   \n",
       "1              3186      Grove St PATH               40.719586   \n",
       "2              3186      Grove St PATH               40.719586   \n",
       "3              3195            Sip Ave               40.730897   \n",
       "4              3186      Grove St PATH               40.719586   \n",
       "\n",
       "   start station longitude  end station id  end station name  \\\n",
       "0               -74.043117            3211        Newark Ave   \n",
       "1               -74.043117            3269   Brunswick & 6th   \n",
       "2               -74.043117            3269   Brunswick & 6th   \n",
       "3               -74.063913            3280       Astor Place   \n",
       "4               -74.043117            3276  Marin Light Rail   \n",
       "\n",
       "   end station latitude  end station longitude  bikeid    usertype  \\\n",
       "0             40.721525             -74.046305   29444  Subscriber   \n",
       "1             40.726012             -74.050389   26305  Subscriber   \n",
       "2             40.726012             -74.050389   29268    Customer   \n",
       "3             40.719282             -74.071262   29278    Customer   \n",
       "4             40.714584             -74.042817   29276  Subscriber   \n",
       "\n",
       "   birth year  gender  \n",
       "0        1984       2  \n",
       "1        1989       2  \n",
       "2        1989       1  \n",
       "3        1969       0  \n",
       "4        1983       2  "
      ],
      "text/html": "<div>\n<style scoped>\n    .dataframe tbody tr th:only-of-type {\n        vertical-align: middle;\n    }\n\n    .dataframe tbody tr th {\n        vertical-align: top;\n    }\n\n    .dataframe thead th {\n        text-align: right;\n    }\n</style>\n<table border=\"1\" class=\"dataframe\">\n  <thead>\n    <tr style=\"text-align: right;\">\n      <th></th>\n      <th>tripduration</th>\n      <th>starttime</th>\n      <th>stoptime</th>\n      <th>start station id</th>\n      <th>start station name</th>\n      <th>start station latitude</th>\n      <th>start station longitude</th>\n      <th>end station id</th>\n      <th>end station name</th>\n      <th>end station latitude</th>\n      <th>end station longitude</th>\n      <th>bikeid</th>\n      <th>usertype</th>\n      <th>birth year</th>\n      <th>gender</th>\n    </tr>\n  </thead>\n  <tbody>\n    <tr>\n      <th>0</th>\n      <td>226</td>\n      <td>2020-01-01 00:04:50.1920</td>\n      <td>2020-01-01 00:08:37.0370</td>\n      <td>3186</td>\n      <td>Grove St PATH</td>\n      <td>40.719586</td>\n      <td>-74.043117</td>\n      <td>3211</td>\n      <td>Newark Ave</td>\n      <td>40.721525</td>\n      <td>-74.046305</td>\n      <td>29444</td>\n      <td>Subscriber</td>\n      <td>1984</td>\n      <td>2</td>\n    </tr>\n    <tr>\n      <th>1</th>\n      <td>377</td>\n      <td>2020-01-01 00:16:01.6700</td>\n      <td>2020-01-01 00:22:19.0800</td>\n      <td>3186</td>\n      <td>Grove St PATH</td>\n      <td>40.719586</td>\n      <td>-74.043117</td>\n      <td>3269</td>\n      <td>Brunswick &amp; 6th</td>\n      <td>40.726012</td>\n      <td>-74.050389</td>\n      <td>26305</td>\n      <td>Subscriber</td>\n      <td>1989</td>\n      <td>2</td>\n    </tr>\n    <tr>\n      <th>2</th>\n      <td>288</td>\n      <td>2020-01-01 00:17:33.8770</td>\n      <td>2020-01-01 00:22:22.4420</td>\n      <td>3186</td>\n      <td>Grove St PATH</td>\n      <td>40.719586</td>\n      <td>-74.043117</td>\n      <td>3269</td>\n      <td>Brunswick &amp; 6th</td>\n      <td>40.726012</td>\n      <td>-74.050389</td>\n      <td>29268</td>\n      <td>Customer</td>\n      <td>1989</td>\n      <td>1</td>\n    </tr>\n    <tr>\n      <th>3</th>\n      <td>435</td>\n      <td>2020-01-01 00:32:05.9020</td>\n      <td>2020-01-01 00:39:21.0660</td>\n      <td>3195</td>\n      <td>Sip Ave</td>\n      <td>40.730897</td>\n      <td>-74.063913</td>\n      <td>3280</td>\n      <td>Astor Place</td>\n      <td>40.719282</td>\n      <td>-74.071262</td>\n      <td>29278</td>\n      <td>Customer</td>\n      <td>1969</td>\n      <td>0</td>\n    </tr>\n    <tr>\n      <th>4</th>\n      <td>231</td>\n      <td>2020-01-01 00:46:19.6780</td>\n      <td>2020-01-01 00:50:11.3440</td>\n      <td>3186</td>\n      <td>Grove St PATH</td>\n      <td>40.719586</td>\n      <td>-74.043117</td>\n      <td>3276</td>\n      <td>Marin Light Rail</td>\n      <td>40.714584</td>\n      <td>-74.042817</td>\n      <td>29276</td>\n      <td>Subscriber</td>\n      <td>1983</td>\n      <td>2</td>\n    </tr>\n  </tbody>\n</table>\n</div>"
     },
     "metadata": {},
     "execution_count": 3
    }
   ],
   "source": [
    "jan_trip_data.head()"
   ]
  },
  {
   "cell_type": "code",
   "execution_count": 4,
   "metadata": {},
   "outputs": [],
   "source": [
    "#merge tabels\n",
    "framesII = [jan_trip_data, \n",
    "            feb_trip_data, \n",
    "            mar_trip_data, \n",
    "            apr_trip_data,\n",
    "            may_trip_data, \n",
    "            jun_trip_data, \n",
    "            jul_trip_data, \n",
    "            aug_trip_data,\n",
    "            sep_trip_data, \n",
    "            oct_trip_data, \n",
    "            nov_trip_data, \n",
    "            dec_trip_data\n",
    "            ]"
   ]
  },
  {
   "cell_type": "code",
   "execution_count": 5,
   "metadata": {
    "collapsed": true
   },
   "outputs": [],
   "source": [
    "resultII = pd.concat(framesII)"
   ]
  },
  {
   "cell_type": "code",
   "execution_count": 6,
   "metadata": {
    "collapsed": true
   },
   "outputs": [],
   "source": [
    "resultII.to_csv(\"../Combined .csv/2020_trip_data.csv\")"
   ]
  },
  {
   "cell_type": "code",
   "execution_count": 7,
   "metadata": {},
   "outputs": [],
   "source": [
    " combined_csv = os.path.join(\"../Combined .csv/2020_trip_data.csv\" )\n",
    " trip_history = pd.read_csv(combined_csv)"
   ]
  },
  {
   "cell_type": "code",
   "execution_count": 8,
   "metadata": {},
   "outputs": [
    {
     "output_type": "execute_result",
     "data": {
      "text/plain": [
       "        Unnamed: 0  tripduration                 starttime  \\\n",
       "0                0           226  2020-01-01 00:04:50.1920   \n",
       "1                1           377  2020-01-01 00:16:01.6700   \n",
       "2                2           288  2020-01-01 00:17:33.8770   \n",
       "3                3           435  2020-01-01 00:32:05.9020   \n",
       "4                4           231  2020-01-01 00:46:19.6780   \n",
       "...            ...           ...                       ...   \n",
       "336797       11689          1750  2020-12-31 23:07:44.0030   \n",
       "336798       11690          1519  2020-12-31 23:18:00.2630   \n",
       "336799       11691          1761  2020-12-31 23:31:09.4620   \n",
       "336800       11692           637  2020-12-31 23:35:45.4640   \n",
       "336801       11693          1607  2020-12-31 23:48:34.5750   \n",
       "\n",
       "                        stoptime  start station id start station name  \\\n",
       "0       2020-01-01 00:08:37.0370              3186      Grove St PATH   \n",
       "1       2020-01-01 00:22:19.0800              3186      Grove St PATH   \n",
       "2       2020-01-01 00:22:22.4420              3186      Grove St PATH   \n",
       "3       2020-01-01 00:39:21.0660              3195            Sip Ave   \n",
       "4       2020-01-01 00:50:11.3440              3186      Grove St PATH   \n",
       "...                          ...               ...                ...   \n",
       "336797  2020-12-31 23:36:54.4710              3199       Newport Pkwy   \n",
       "336798  2020-12-31 23:43:19.8590              3184        Paulus Hook   \n",
       "336799  2021-01-01 00:00:31.3290              3195            Sip Ave   \n",
       "336800  2020-12-31 23:46:22.7300              3681           Grand St   \n",
       "336801  2021-01-01 00:15:22.3090              3267       Morris Canal   \n",
       "\n",
       "        start station latitude  start station longitude  end station id  \\\n",
       "0                    40.719586               -74.043117            3211   \n",
       "1                    40.719586               -74.043117            3269   \n",
       "2                    40.719586               -74.043117            3269   \n",
       "3                    40.730897               -74.063913            3280   \n",
       "4                    40.719586               -74.043117            3276   \n",
       "...                        ...                      ...             ...   \n",
       "336797               40.728745               -74.032108            3199   \n",
       "336798               40.714145               -74.033552            3195   \n",
       "336799               40.730897               -74.063913            3270   \n",
       "336800               40.715178               -74.037683            3199   \n",
       "336801               40.712419               -74.038526            3267   \n",
       "\n",
       "        end station name  end station latitude  end station longitude  bikeid  \\\n",
       "0             Newark Ave             40.721525             -74.046305   29444   \n",
       "1        Brunswick & 6th             40.726012             -74.050389   26305   \n",
       "2        Brunswick & 6th             40.726012             -74.050389   29268   \n",
       "3            Astor Place             40.719282             -74.071262   29278   \n",
       "4       Marin Light Rail             40.714584             -74.042817   29276   \n",
       "...                  ...                   ...                    ...     ...   \n",
       "336797      Newport Pkwy             40.728745             -74.032108   40440   \n",
       "336798           Sip Ave             40.730897             -74.063913   46340   \n",
       "336799   Jersey & 6th St             40.725289             -74.045572   40907   \n",
       "336800      Newport Pkwy             40.728745             -74.032108   42250   \n",
       "336801      Morris Canal             40.712419             -74.038526   48742   \n",
       "\n",
       "          usertype  birth year  gender  \n",
       "0       Subscriber        1984       2  \n",
       "1       Subscriber        1989       2  \n",
       "2         Customer        1989       1  \n",
       "3         Customer        1969       0  \n",
       "4       Subscriber        1983       2  \n",
       "...            ...         ...     ...  \n",
       "336797    Customer        1969       0  \n",
       "336798    Customer        1969       0  \n",
       "336799    Customer        1998       1  \n",
       "336800    Customer        1969       0  \n",
       "336801  Subscriber        1982       1  \n",
       "\n",
       "[336802 rows x 16 columns]"
      ],
      "text/html": "<div>\n<style scoped>\n    .dataframe tbody tr th:only-of-type {\n        vertical-align: middle;\n    }\n\n    .dataframe tbody tr th {\n        vertical-align: top;\n    }\n\n    .dataframe thead th {\n        text-align: right;\n    }\n</style>\n<table border=\"1\" class=\"dataframe\">\n  <thead>\n    <tr style=\"text-align: right;\">\n      <th></th>\n      <th>Unnamed: 0</th>\n      <th>tripduration</th>\n      <th>starttime</th>\n      <th>stoptime</th>\n      <th>start station id</th>\n      <th>start station name</th>\n      <th>start station latitude</th>\n      <th>start station longitude</th>\n      <th>end station id</th>\n      <th>end station name</th>\n      <th>end station latitude</th>\n      <th>end station longitude</th>\n      <th>bikeid</th>\n      <th>usertype</th>\n      <th>birth year</th>\n      <th>gender</th>\n    </tr>\n  </thead>\n  <tbody>\n    <tr>\n      <th>0</th>\n      <td>0</td>\n      <td>226</td>\n      <td>2020-01-01 00:04:50.1920</td>\n      <td>2020-01-01 00:08:37.0370</td>\n      <td>3186</td>\n      <td>Grove St PATH</td>\n      <td>40.719586</td>\n      <td>-74.043117</td>\n      <td>3211</td>\n      <td>Newark Ave</td>\n      <td>40.721525</td>\n      <td>-74.046305</td>\n      <td>29444</td>\n      <td>Subscriber</td>\n      <td>1984</td>\n      <td>2</td>\n    </tr>\n    <tr>\n      <th>1</th>\n      <td>1</td>\n      <td>377</td>\n      <td>2020-01-01 00:16:01.6700</td>\n      <td>2020-01-01 00:22:19.0800</td>\n      <td>3186</td>\n      <td>Grove St PATH</td>\n      <td>40.719586</td>\n      <td>-74.043117</td>\n      <td>3269</td>\n      <td>Brunswick &amp; 6th</td>\n      <td>40.726012</td>\n      <td>-74.050389</td>\n      <td>26305</td>\n      <td>Subscriber</td>\n      <td>1989</td>\n      <td>2</td>\n    </tr>\n    <tr>\n      <th>2</th>\n      <td>2</td>\n      <td>288</td>\n      <td>2020-01-01 00:17:33.8770</td>\n      <td>2020-01-01 00:22:22.4420</td>\n      <td>3186</td>\n      <td>Grove St PATH</td>\n      <td>40.719586</td>\n      <td>-74.043117</td>\n      <td>3269</td>\n      <td>Brunswick &amp; 6th</td>\n      <td>40.726012</td>\n      <td>-74.050389</td>\n      <td>29268</td>\n      <td>Customer</td>\n      <td>1989</td>\n      <td>1</td>\n    </tr>\n    <tr>\n      <th>3</th>\n      <td>3</td>\n      <td>435</td>\n      <td>2020-01-01 00:32:05.9020</td>\n      <td>2020-01-01 00:39:21.0660</td>\n      <td>3195</td>\n      <td>Sip Ave</td>\n      <td>40.730897</td>\n      <td>-74.063913</td>\n      <td>3280</td>\n      <td>Astor Place</td>\n      <td>40.719282</td>\n      <td>-74.071262</td>\n      <td>29278</td>\n      <td>Customer</td>\n      <td>1969</td>\n      <td>0</td>\n    </tr>\n    <tr>\n      <th>4</th>\n      <td>4</td>\n      <td>231</td>\n      <td>2020-01-01 00:46:19.6780</td>\n      <td>2020-01-01 00:50:11.3440</td>\n      <td>3186</td>\n      <td>Grove St PATH</td>\n      <td>40.719586</td>\n      <td>-74.043117</td>\n      <td>3276</td>\n      <td>Marin Light Rail</td>\n      <td>40.714584</td>\n      <td>-74.042817</td>\n      <td>29276</td>\n      <td>Subscriber</td>\n      <td>1983</td>\n      <td>2</td>\n    </tr>\n    <tr>\n      <th>...</th>\n      <td>...</td>\n      <td>...</td>\n      <td>...</td>\n      <td>...</td>\n      <td>...</td>\n      <td>...</td>\n      <td>...</td>\n      <td>...</td>\n      <td>...</td>\n      <td>...</td>\n      <td>...</td>\n      <td>...</td>\n      <td>...</td>\n      <td>...</td>\n      <td>...</td>\n      <td>...</td>\n    </tr>\n    <tr>\n      <th>336797</th>\n      <td>11689</td>\n      <td>1750</td>\n      <td>2020-12-31 23:07:44.0030</td>\n      <td>2020-12-31 23:36:54.4710</td>\n      <td>3199</td>\n      <td>Newport Pkwy</td>\n      <td>40.728745</td>\n      <td>-74.032108</td>\n      <td>3199</td>\n      <td>Newport Pkwy</td>\n      <td>40.728745</td>\n      <td>-74.032108</td>\n      <td>40440</td>\n      <td>Customer</td>\n      <td>1969</td>\n      <td>0</td>\n    </tr>\n    <tr>\n      <th>336798</th>\n      <td>11690</td>\n      <td>1519</td>\n      <td>2020-12-31 23:18:00.2630</td>\n      <td>2020-12-31 23:43:19.8590</td>\n      <td>3184</td>\n      <td>Paulus Hook</td>\n      <td>40.714145</td>\n      <td>-74.033552</td>\n      <td>3195</td>\n      <td>Sip Ave</td>\n      <td>40.730897</td>\n      <td>-74.063913</td>\n      <td>46340</td>\n      <td>Customer</td>\n      <td>1969</td>\n      <td>0</td>\n    </tr>\n    <tr>\n      <th>336799</th>\n      <td>11691</td>\n      <td>1761</td>\n      <td>2020-12-31 23:31:09.4620</td>\n      <td>2021-01-01 00:00:31.3290</td>\n      <td>3195</td>\n      <td>Sip Ave</td>\n      <td>40.730897</td>\n      <td>-74.063913</td>\n      <td>3270</td>\n      <td>Jersey &amp; 6th St</td>\n      <td>40.725289</td>\n      <td>-74.045572</td>\n      <td>40907</td>\n      <td>Customer</td>\n      <td>1998</td>\n      <td>1</td>\n    </tr>\n    <tr>\n      <th>336800</th>\n      <td>11692</td>\n      <td>637</td>\n      <td>2020-12-31 23:35:45.4640</td>\n      <td>2020-12-31 23:46:22.7300</td>\n      <td>3681</td>\n      <td>Grand St</td>\n      <td>40.715178</td>\n      <td>-74.037683</td>\n      <td>3199</td>\n      <td>Newport Pkwy</td>\n      <td>40.728745</td>\n      <td>-74.032108</td>\n      <td>42250</td>\n      <td>Customer</td>\n      <td>1969</td>\n      <td>0</td>\n    </tr>\n    <tr>\n      <th>336801</th>\n      <td>11693</td>\n      <td>1607</td>\n      <td>2020-12-31 23:48:34.5750</td>\n      <td>2021-01-01 00:15:22.3090</td>\n      <td>3267</td>\n      <td>Morris Canal</td>\n      <td>40.712419</td>\n      <td>-74.038526</td>\n      <td>3267</td>\n      <td>Morris Canal</td>\n      <td>40.712419</td>\n      <td>-74.038526</td>\n      <td>48742</td>\n      <td>Subscriber</td>\n      <td>1982</td>\n      <td>1</td>\n    </tr>\n  </tbody>\n</table>\n<p>336802 rows × 16 columns</p>\n</div>"
     },
     "metadata": {},
     "execution_count": 8
    }
   ],
   "source": [
    "trip_history"
   ]
  },
  {
   "cell_type": "code",
   "execution_count": 9,
   "metadata": {},
   "outputs": [
    {
     "output_type": "execute_result",
     "data": {
      "text/plain": [
       "Unnamed: 0                 336802\n",
       "tripduration               336802\n",
       "starttime                  336802\n",
       "stoptime                   336802\n",
       "start station id           336802\n",
       "start station name         336802\n",
       "start station latitude     336802\n",
       "start station longitude    336802\n",
       "end station id             336802\n",
       "end station name           336802\n",
       "end station latitude       336802\n",
       "end station longitude      336802\n",
       "bikeid                     336802\n",
       "usertype                   336802\n",
       "birth year                 336802\n",
       "gender                     336802\n",
       "dtype: int64"
      ]
     },
     "metadata": {},
     "execution_count": 9
    }
   ],
   "source": [
    "trip_history.count()"
   ]
  },
  {
   "cell_type": "code",
   "execution_count": null,
   "metadata": {
    "collapsed": true
   },
   "outputs": [],
   "source": []
  }
 ],
 "metadata": {
  "kernelspec": {
   "name": "python383jvsc74a57bd05871f9ceaeb58903a062280df9e35c51c3f2838963fa6a6e83036660d9d47fa0",
   "display_name": "Python 3.8.3 64-bit (conda)"
  },
  "language_info": {
   "codemirror_mode": {
    "name": "ipython",
    "version": 3
   },
   "file_extension": ".py",
   "mimetype": "text/x-python",
   "name": "python",
   "nbconvert_exporter": "python",
   "pygments_lexer": "ipython3",
   "version": "3.8.3"
  }
 },
 "nbformat": 4,
 "nbformat_minor": 2
}
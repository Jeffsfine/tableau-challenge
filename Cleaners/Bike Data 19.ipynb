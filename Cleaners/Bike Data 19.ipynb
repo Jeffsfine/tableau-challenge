{
 "cells": [
  {
   "cell_type": "code",
   "execution_count": 2,
   "metadata": {},
   "outputs": [],
   "source": [
    "import matplotlib.pyplot as plt\n",
    "import pandas as pd\n",
    "import numpy as np\n",
    "import os"
   ]
  },
  {
   "cell_type": "code",
   "execution_count": 3,
   "metadata": {},
   "outputs": [],
   "source": [
    "jan = os.path.join(\"../raw .csv/2019/JC-201901-citibike-tripdata.csv\")\n",
    "feb = os.path.join(\"../raw .csv/2019/JC-201902-citibike-tripdata.csv\")\n",
    "mar = os.path.join(\"../raw .csv/2019/JC-201903-citibike-tripdata.csv\")\n",
    "apr = os.path.join(\"../raw .csv/2019/JC-201904-citibike-tripdata.csv\")\n",
    "may = os.path.join(\"../raw .csv/2019/JC-201905-citibike-tripdata.csv\")\n",
    "jun = os.path.join(\"../raw .csv/2019/JC-201906-citibike-tripdata.csv\")\n",
    "jul = os.path.join(\"../raw .csv/2019/JC-201907-citibike-tripdata.csv\")\n",
    "aug = os.path.join(\"../raw .csv/2019/JC-201908-citibike-tripdata.csv\")\n",
    "sep = os.path.join(\"../raw .csv/2019/JC-201909-citibike-tripdata.csv\")\n",
    "oct = os.path.join(\"../raw .csv/2019/JC-201910-citibike-tripdata.csv\")\n",
    "nov = os.path.join(\"../raw .csv/2019/JC-201911-citibike-tripdata.csv\")\n",
    "dec = os.path.join(\"../raw .csv/2019/JC-201912-citibike-tripdata.csv\")\n",
    "\n",
    "jan_trip_data = pd.read_csv(jan)\n",
    "feb_trip_data = pd.read_csv(feb)\n",
    "mar_trip_data = pd.read_csv(mar)\n",
    "apr_trip_data = pd.read_csv(apr)\n",
    "may_trip_data = pd.read_csv(may)\n",
    "jun_trip_data = pd.read_csv(jun)\n",
    "jul_trip_data = pd.read_csv(jul)\n",
    "aug_trip_data = pd.read_csv(aug)\n",
    "sep_trip_data = pd.read_csv(sep)\n",
    "oct_trip_data = pd.read_csv(oct)\n",
    "nov_trip_data = pd.read_csv(nov)\n",
    "dec_trip_data = pd.read_csv(dec)"
   ]
  },
  {
   "cell_type": "code",
   "execution_count": 4,
   "metadata": {},
   "outputs": [
    {
     "output_type": "execute_result",
     "data": {
      "text/plain": [
       "   tripduration                 starttime                  stoptime  \\\n",
       "0           201  2019-01-01 03:09:09.7110  2019-01-01 03:12:30.8790   \n",
       "1           505  2019-01-01 05:18:00.1060  2019-01-01 05:26:25.9050   \n",
       "2           756  2019-01-01 10:36:33.3400  2019-01-01 10:49:10.2600   \n",
       "3          1575  2019-01-01 12:43:38.6430  2019-01-01 13:09:54.5280   \n",
       "4          1566  2019-01-01 12:43:39.6010  2019-01-01 13:09:46.5100   \n",
       "\n",
       "   start station id start station name  start station latitude  \\\n",
       "0              3183     Exchange Place               40.716247   \n",
       "1              3183     Exchange Place               40.716247   \n",
       "2              3183     Exchange Place               40.716247   \n",
       "3              3183     Exchange Place               40.716247   \n",
       "4              3183     Exchange Place               40.716247   \n",
       "\n",
       "   start station longitude  end station id    end station name  \\\n",
       "0               -74.033459            3214    Essex Light Rail   \n",
       "1               -74.033459            3638       Washington St   \n",
       "2               -74.033459            3192  Liberty Light Rail   \n",
       "3               -74.033459            3638       Washington St   \n",
       "4               -74.033459            3638       Washington St   \n",
       "\n",
       "   end station latitude  end station longitude  bikeid    usertype  \\\n",
       "0             40.712774             -74.036486   29612  Subscriber   \n",
       "1             40.724294             -74.035483   29213  Subscriber   \n",
       "2             40.711242             -74.055701   26164  Subscriber   \n",
       "3             40.724294             -74.035483   29672    Customer   \n",
       "4             40.724294             -74.035483   29522    Customer   \n",
       "\n",
       "   birth year  gender  \n",
       "0        1993       1  \n",
       "1        1972       2  \n",
       "2        1985       1  \n",
       "3        1969       0  \n",
       "4        1969       0  "
      ],
      "text/html": "<div>\n<style scoped>\n    .dataframe tbody tr th:only-of-type {\n        vertical-align: middle;\n    }\n\n    .dataframe tbody tr th {\n        vertical-align: top;\n    }\n\n    .dataframe thead th {\n        text-align: right;\n    }\n</style>\n<table border=\"1\" class=\"dataframe\">\n  <thead>\n    <tr style=\"text-align: right;\">\n      <th></th>\n      <th>tripduration</th>\n      <th>starttime</th>\n      <th>stoptime</th>\n      <th>start station id</th>\n      <th>start station name</th>\n      <th>start station latitude</th>\n      <th>start station longitude</th>\n      <th>end station id</th>\n      <th>end station name</th>\n      <th>end station latitude</th>\n      <th>end station longitude</th>\n      <th>bikeid</th>\n      <th>usertype</th>\n      <th>birth year</th>\n      <th>gender</th>\n    </tr>\n  </thead>\n  <tbody>\n    <tr>\n      <th>0</th>\n      <td>201</td>\n      <td>2019-01-01 03:09:09.7110</td>\n      <td>2019-01-01 03:12:30.8790</td>\n      <td>3183</td>\n      <td>Exchange Place</td>\n      <td>40.716247</td>\n      <td>-74.033459</td>\n      <td>3214</td>\n      <td>Essex Light Rail</td>\n      <td>40.712774</td>\n      <td>-74.036486</td>\n      <td>29612</td>\n      <td>Subscriber</td>\n      <td>1993</td>\n      <td>1</td>\n    </tr>\n    <tr>\n      <th>1</th>\n      <td>505</td>\n      <td>2019-01-01 05:18:00.1060</td>\n      <td>2019-01-01 05:26:25.9050</td>\n      <td>3183</td>\n      <td>Exchange Place</td>\n      <td>40.716247</td>\n      <td>-74.033459</td>\n      <td>3638</td>\n      <td>Washington St</td>\n      <td>40.724294</td>\n      <td>-74.035483</td>\n      <td>29213</td>\n      <td>Subscriber</td>\n      <td>1972</td>\n      <td>2</td>\n    </tr>\n    <tr>\n      <th>2</th>\n      <td>756</td>\n      <td>2019-01-01 10:36:33.3400</td>\n      <td>2019-01-01 10:49:10.2600</td>\n      <td>3183</td>\n      <td>Exchange Place</td>\n      <td>40.716247</td>\n      <td>-74.033459</td>\n      <td>3192</td>\n      <td>Liberty Light Rail</td>\n      <td>40.711242</td>\n      <td>-74.055701</td>\n      <td>26164</td>\n      <td>Subscriber</td>\n      <td>1985</td>\n      <td>1</td>\n    </tr>\n    <tr>\n      <th>3</th>\n      <td>1575</td>\n      <td>2019-01-01 12:43:38.6430</td>\n      <td>2019-01-01 13:09:54.5280</td>\n      <td>3183</td>\n      <td>Exchange Place</td>\n      <td>40.716247</td>\n      <td>-74.033459</td>\n      <td>3638</td>\n      <td>Washington St</td>\n      <td>40.724294</td>\n      <td>-74.035483</td>\n      <td>29672</td>\n      <td>Customer</td>\n      <td>1969</td>\n      <td>0</td>\n    </tr>\n    <tr>\n      <th>4</th>\n      <td>1566</td>\n      <td>2019-01-01 12:43:39.6010</td>\n      <td>2019-01-01 13:09:46.5100</td>\n      <td>3183</td>\n      <td>Exchange Place</td>\n      <td>40.716247</td>\n      <td>-74.033459</td>\n      <td>3638</td>\n      <td>Washington St</td>\n      <td>40.724294</td>\n      <td>-74.035483</td>\n      <td>29522</td>\n      <td>Customer</td>\n      <td>1969</td>\n      <td>0</td>\n    </tr>\n  </tbody>\n</table>\n</div>"
     },
     "metadata": {},
     "execution_count": 4
    }
   ],
   "source": [
    "jan_trip_data.head()"
   ]
  },
  {
   "cell_type": "code",
   "execution_count": 5,
   "metadata": {},
   "outputs": [],
   "source": [
    "#merge tabels\n",
    "framesII = [jan_trip_data, \n",
    "            feb_trip_data, \n",
    "            mar_trip_data, \n",
    "            apr_trip_data,\n",
    "            may_trip_data, \n",
    "            jun_trip_data, \n",
    "            jul_trip_data, \n",
    "            aug_trip_data,\n",
    "            sep_trip_data, \n",
    "            oct_trip_data, \n",
    "            nov_trip_data, \n",
    "            dec_trip_data\n",
    "            ]"
   ]
  },
  {
   "cell_type": "code",
   "execution_count": 6,
   "metadata": {
    "collapsed": true
   },
   "outputs": [],
   "source": [
    "resultII = pd.concat(framesII)"
   ]
  },
  {
   "cell_type": "code",
   "execution_count": 8,
   "metadata": {
    "collapsed": true
   },
   "outputs": [],
   "source": [
    "resultII.to_csv(\"../Combined .csv/2019_trip_data.csv\")"
   ]
  },
  {
   "cell_type": "code",
   "execution_count": 9,
   "metadata": {},
   "outputs": [],
   "source": [
    " combined_csv = os.path.join(\"../Combined .csv/2019_trip_data.csv\" )\n",
    " trip_history = pd.read_csv(combined_csv)"
   ]
  },
  {
   "cell_type": "code",
   "execution_count": 10,
   "metadata": {},
   "outputs": [
    {
     "output_type": "execute_result",
     "data": {
      "text/plain": [
       "        Unnamed: 0  tripduration                 starttime  \\\n",
       "0                0           201  2019-01-01 03:09:09.7110   \n",
       "1                1           505  2019-01-01 05:18:00.1060   \n",
       "2                2           756  2019-01-01 10:36:33.3400   \n",
       "3                3          1575  2019-01-01 12:43:38.6430   \n",
       "4                4          1566  2019-01-01 12:43:39.6010   \n",
       "...            ...           ...                       ...   \n",
       "404942       19723           283  2019-12-31 23:12:18.5480   \n",
       "404943       19724           267  2019-12-31 23:19:03.5840   \n",
       "404944       19725           379  2019-12-31 23:19:06.5830   \n",
       "404945       19726           188  2019-12-31 23:24:00.2630   \n",
       "404946       19727           326  2019-12-31 23:45:20.9780   \n",
       "\n",
       "                        stoptime  start station id start station name  \\\n",
       "0       2019-01-01 03:12:30.8790              3183     Exchange Place   \n",
       "1       2019-01-01 05:26:25.9050              3183     Exchange Place   \n",
       "2       2019-01-01 10:49:10.2600              3183     Exchange Place   \n",
       "3       2019-01-01 13:09:54.5280              3183     Exchange Place   \n",
       "4       2019-01-01 13:09:46.5100              3183     Exchange Place   \n",
       "...                          ...               ...                ...   \n",
       "404942  2019-12-31 23:17:01.8740              3195            Sip Ave   \n",
       "404943  2019-12-31 23:23:30.6640              3186      Grove St PATH   \n",
       "404944  2019-12-31 23:25:25.7970              3209       Brunswick St   \n",
       "404945  2019-12-31 23:27:09.0400              3639         Harborside   \n",
       "404946  2019-12-31 23:50:47.7490              3195            Sip Ave   \n",
       "\n",
       "        start station latitude  start station longitude  end station id  \\\n",
       "0                    40.716247               -74.033459            3214   \n",
       "1                    40.716247               -74.033459            3638   \n",
       "2                    40.716247               -74.033459            3192   \n",
       "3                    40.716247               -74.033459            3638   \n",
       "4                    40.716247               -74.033459            3638   \n",
       "...                        ...                      ...             ...   \n",
       "404942               40.730897               -74.063913            3679   \n",
       "404943               40.719586               -74.043117            3205   \n",
       "404944               40.724176               -74.050656            3185   \n",
       "404945               40.719252               -74.034234            3186   \n",
       "404946               40.730897               -74.063913            3280   \n",
       "\n",
       "          end station name  end station latitude  end station longitude  \\\n",
       "0         Essex Light Rail             40.712774             -74.036486   \n",
       "1            Washington St             40.724294             -74.035483   \n",
       "2       Liberty Light Rail             40.711242             -74.055701   \n",
       "3            Washington St             40.724294             -74.035483   \n",
       "4            Washington St             40.724294             -74.035483   \n",
       "...                    ...                   ...                    ...   \n",
       "404942          Bergen Ave             40.722104             -74.071455   \n",
       "404943   JC Medical Center             40.716540             -74.049638   \n",
       "404944           City Hall             40.717732             -74.043845   \n",
       "404945       Grove St PATH             40.719586             -74.043117   \n",
       "404946         Astor Place             40.719282             -74.071262   \n",
       "\n",
       "        bikeid    usertype  birth year  gender  \n",
       "0        29612  Subscriber        1993       1  \n",
       "1        29213  Subscriber        1972       2  \n",
       "2        26164  Subscriber        1985       1  \n",
       "3        29672    Customer        1969       0  \n",
       "4        29522    Customer        1969       0  \n",
       "...        ...         ...         ...     ...  \n",
       "404942   29245    Customer        1990       1  \n",
       "404943   26153  Subscriber        1989       1  \n",
       "404944   26276  Subscriber        1984       1  \n",
       "404945   29461  Subscriber        1987       1  \n",
       "404946   29123  Subscriber        1988       1  \n",
       "\n",
       "[404947 rows x 16 columns]"
      ],
      "text/html": "<div>\n<style scoped>\n    .dataframe tbody tr th:only-of-type {\n        vertical-align: middle;\n    }\n\n    .dataframe tbody tr th {\n        vertical-align: top;\n    }\n\n    .dataframe thead th {\n        text-align: right;\n    }\n</style>\n<table border=\"1\" class=\"dataframe\">\n  <thead>\n    <tr style=\"text-align: right;\">\n      <th></th>\n      <th>Unnamed: 0</th>\n      <th>tripduration</th>\n      <th>starttime</th>\n      <th>stoptime</th>\n      <th>start station id</th>\n      <th>start station name</th>\n      <th>start station latitude</th>\n      <th>start station longitude</th>\n      <th>end station id</th>\n      <th>end station name</th>\n      <th>end station latitude</th>\n      <th>end station longitude</th>\n      <th>bikeid</th>\n      <th>usertype</th>\n      <th>birth year</th>\n      <th>gender</th>\n    </tr>\n  </thead>\n  <tbody>\n    <tr>\n      <th>0</th>\n      <td>0</td>\n      <td>201</td>\n      <td>2019-01-01 03:09:09.7110</td>\n      <td>2019-01-01 03:12:30.8790</td>\n      <td>3183</td>\n      <td>Exchange Place</td>\n      <td>40.716247</td>\n      <td>-74.033459</td>\n      <td>3214</td>\n      <td>Essex Light Rail</td>\n      <td>40.712774</td>\n      <td>-74.036486</td>\n      <td>29612</td>\n      <td>Subscriber</td>\n      <td>1993</td>\n      <td>1</td>\n    </tr>\n    <tr>\n      <th>1</th>\n      <td>1</td>\n      <td>505</td>\n      <td>2019-01-01 05:18:00.1060</td>\n      <td>2019-01-01 05:26:25.9050</td>\n      <td>3183</td>\n      <td>Exchange Place</td>\n      <td>40.716247</td>\n      <td>-74.033459</td>\n      <td>3638</td>\n      <td>Washington St</td>\n      <td>40.724294</td>\n      <td>-74.035483</td>\n      <td>29213</td>\n      <td>Subscriber</td>\n      <td>1972</td>\n      <td>2</td>\n    </tr>\n    <tr>\n      <th>2</th>\n      <td>2</td>\n      <td>756</td>\n      <td>2019-01-01 10:36:33.3400</td>\n      <td>2019-01-01 10:49:10.2600</td>\n      <td>3183</td>\n      <td>Exchange Place</td>\n      <td>40.716247</td>\n      <td>-74.033459</td>\n      <td>3192</td>\n      <td>Liberty Light Rail</td>\n      <td>40.711242</td>\n      <td>-74.055701</td>\n      <td>26164</td>\n      <td>Subscriber</td>\n      <td>1985</td>\n      <td>1</td>\n    </tr>\n    <tr>\n      <th>3</th>\n      <td>3</td>\n      <td>1575</td>\n      <td>2019-01-01 12:43:38.6430</td>\n      <td>2019-01-01 13:09:54.5280</td>\n      <td>3183</td>\n      <td>Exchange Place</td>\n      <td>40.716247</td>\n      <td>-74.033459</td>\n      <td>3638</td>\n      <td>Washington St</td>\n      <td>40.724294</td>\n      <td>-74.035483</td>\n      <td>29672</td>\n      <td>Customer</td>\n      <td>1969</td>\n      <td>0</td>\n    </tr>\n    <tr>\n      <th>4</th>\n      <td>4</td>\n      <td>1566</td>\n      <td>2019-01-01 12:43:39.6010</td>\n      <td>2019-01-01 13:09:46.5100</td>\n      <td>3183</td>\n      <td>Exchange Place</td>\n      <td>40.716247</td>\n      <td>-74.033459</td>\n      <td>3638</td>\n      <td>Washington St</td>\n      <td>40.724294</td>\n      <td>-74.035483</td>\n      <td>29522</td>\n      <td>Customer</td>\n      <td>1969</td>\n      <td>0</td>\n    </tr>\n    <tr>\n      <th>...</th>\n      <td>...</td>\n      <td>...</td>\n      <td>...</td>\n      <td>...</td>\n      <td>...</td>\n      <td>...</td>\n      <td>...</td>\n      <td>...</td>\n      <td>...</td>\n      <td>...</td>\n      <td>...</td>\n      <td>...</td>\n      <td>...</td>\n      <td>...</td>\n      <td>...</td>\n      <td>...</td>\n    </tr>\n    <tr>\n      <th>404942</th>\n      <td>19723</td>\n      <td>283</td>\n      <td>2019-12-31 23:12:18.5480</td>\n      <td>2019-12-31 23:17:01.8740</td>\n      <td>3195</td>\n      <td>Sip Ave</td>\n      <td>40.730897</td>\n      <td>-74.063913</td>\n      <td>3679</td>\n      <td>Bergen Ave</td>\n      <td>40.722104</td>\n      <td>-74.071455</td>\n      <td>29245</td>\n      <td>Customer</td>\n      <td>1990</td>\n      <td>1</td>\n    </tr>\n    <tr>\n      <th>404943</th>\n      <td>19724</td>\n      <td>267</td>\n      <td>2019-12-31 23:19:03.5840</td>\n      <td>2019-12-31 23:23:30.6640</td>\n      <td>3186</td>\n      <td>Grove St PATH</td>\n      <td>40.719586</td>\n      <td>-74.043117</td>\n      <td>3205</td>\n      <td>JC Medical Center</td>\n      <td>40.716540</td>\n      <td>-74.049638</td>\n      <td>26153</td>\n      <td>Subscriber</td>\n      <td>1989</td>\n      <td>1</td>\n    </tr>\n    <tr>\n      <th>404944</th>\n      <td>19725</td>\n      <td>379</td>\n      <td>2019-12-31 23:19:06.5830</td>\n      <td>2019-12-31 23:25:25.7970</td>\n      <td>3209</td>\n      <td>Brunswick St</td>\n      <td>40.724176</td>\n      <td>-74.050656</td>\n      <td>3185</td>\n      <td>City Hall</td>\n      <td>40.717732</td>\n      <td>-74.043845</td>\n      <td>26276</td>\n      <td>Subscriber</td>\n      <td>1984</td>\n      <td>1</td>\n    </tr>\n    <tr>\n      <th>404945</th>\n      <td>19726</td>\n      <td>188</td>\n      <td>2019-12-31 23:24:00.2630</td>\n      <td>2019-12-31 23:27:09.0400</td>\n      <td>3639</td>\n      <td>Harborside</td>\n      <td>40.719252</td>\n      <td>-74.034234</td>\n      <td>3186</td>\n      <td>Grove St PATH</td>\n      <td>40.719586</td>\n      <td>-74.043117</td>\n      <td>29461</td>\n      <td>Subscriber</td>\n      <td>1987</td>\n      <td>1</td>\n    </tr>\n    <tr>\n      <th>404946</th>\n      <td>19727</td>\n      <td>326</td>\n      <td>2019-12-31 23:45:20.9780</td>\n      <td>2019-12-31 23:50:47.7490</td>\n      <td>3195</td>\n      <td>Sip Ave</td>\n      <td>40.730897</td>\n      <td>-74.063913</td>\n      <td>3280</td>\n      <td>Astor Place</td>\n      <td>40.719282</td>\n      <td>-74.071262</td>\n      <td>29123</td>\n      <td>Subscriber</td>\n      <td>1988</td>\n      <td>1</td>\n    </tr>\n  </tbody>\n</table>\n<p>404947 rows × 16 columns</p>\n</div>"
     },
     "metadata": {},
     "execution_count": 10
    }
   ],
   "source": [
    "trip_history"
   ]
  },
  {
   "cell_type": "code",
   "execution_count": 11,
   "metadata": {},
   "outputs": [
    {
     "output_type": "execute_result",
     "data": {
      "text/plain": [
       "Unnamed: 0                 404947\n",
       "tripduration               404947\n",
       "starttime                  404947\n",
       "stoptime                   404947\n",
       "start station id           404947\n",
       "start station name         404947\n",
       "start station latitude     404947\n",
       "start station longitude    404947\n",
       "end station id             404947\n",
       "end station name           404947\n",
       "end station latitude       404947\n",
       "end station longitude      404947\n",
       "bikeid                     404947\n",
       "usertype                   404947\n",
       "birth year                 404947\n",
       "gender                     404947\n",
       "dtype: int64"
      ]
     },
     "metadata": {},
     "execution_count": 11
    }
   ],
   "source": [
    "trip_history.count()"
   ]
  },
  {
   "cell_type": "code",
   "execution_count": null,
   "metadata": {
    "collapsed": true
   },
   "outputs": [],
   "source": []
  }
 ],
 "metadata": {
  "kernelspec": {
   "name": "python383jvsc74a57bd05871f9ceaeb58903a062280df9e35c51c3f2838963fa6a6e83036660d9d47fa0",
   "display_name": "Python 3.8.3 64-bit (conda)"
  },
  "language_info": {
   "codemirror_mode": {
    "name": "ipython",
    "version": 3
   },
   "file_extension": ".py",
   "mimetype": "text/x-python",
   "name": "python",
   "nbconvert_exporter": "python",
   "pygments_lexer": "ipython3",
   "version": "3.8.3"
  }
 },
 "nbformat": 4,
 "nbformat_minor": 2
}
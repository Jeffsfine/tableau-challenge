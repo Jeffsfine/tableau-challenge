{
 "cells": [
  {
   "cell_type": "code",
   "execution_count": 1,
   "metadata": {},
   "outputs": [],
   "source": [
    "import matplotlib.pyplot as plt\n",
    "import pandas as pd\n",
    "import numpy as np\n",
    "import os"
   ]
  },
  {
   "cell_type": "code",
   "execution_count": 3,
   "metadata": {},
   "outputs": [],
   "source": [
    "jan = os.path.join(\"../raw .csv/2021/JC-202101-citibike-tripdata.csv\")\n",
    "feb = os.path.join(\"../raw .csv/2021/JC-202102-citibike-tripdata.csv\")\n",
    "mar = os.path.join(\"../raw .csv/2021/JC-202103-citibike-tripdata.csv\")\n",
    "\n",
    "jan_trip_data = pd.read_csv(jan)\n",
    "feb_trip_data = pd.read_csv(feb)\n",
    "mar_trip_data = pd.read_csv(mar)\n"
   ]
  },
  {
   "cell_type": "code",
   "execution_count": 4,
   "metadata": {},
   "outputs": [
    {
     "output_type": "execute_result",
     "data": {
      "text/plain": [
       "   tripduration                 starttime                  stoptime  \\\n",
       "0           266  2021-01-01 00:03:35.5100  2021-01-01 00:08:01.7770   \n",
       "1          1543  2021-01-01 00:23:32.9250  2021-01-01 00:49:16.0830   \n",
       "2          1461  2021-01-01 00:23:50.7940  2021-01-01 00:48:12.5660   \n",
       "3           793  2021-01-01 00:31:09.0770  2021-01-01 00:44:22.9430   \n",
       "4           596  2021-01-01 00:35:52.1900  2021-01-01 00:45:48.7740   \n",
       "\n",
       "   start station id start station name  start station latitude  \\\n",
       "0              3273       Manila & 1st               40.721651   \n",
       "1              3681           Grand St               40.715178   \n",
       "2              3681           Grand St               40.715178   \n",
       "3              3185          City Hall               40.717733   \n",
       "4              3639         Harborside               40.719252   \n",
       "\n",
       "   start station longitude  end station id end station name  \\\n",
       "0               -74.042884            3209     Brunswick St   \n",
       "1               -74.037683            3213   Van Vorst Park   \n",
       "2               -74.037683            3213   Van Vorst Park   \n",
       "3               -74.043845            3199     Newport Pkwy   \n",
       "4               -74.034234            3209     Brunswick St   \n",
       "\n",
       "   end station latitude  end station longitude  bikeid    usertype  \\\n",
       "0             40.724176             -74.050656   42494  Subscriber   \n",
       "1             40.718489             -74.047727   45343    Customer   \n",
       "2             40.718489             -74.047727   31794    Customer   \n",
       "3             40.728745             -74.032108   42316    Customer   \n",
       "4             40.724176             -74.050656   32575    Customer   \n",
       "\n",
       "   birth year  gender  \n",
       "0        1988       1  \n",
       "1        1996       2  \n",
       "2        1995       1  \n",
       "3        1969       0  \n",
       "4        1969       0  "
      ],
      "text/html": "<div>\n<style scoped>\n    .dataframe tbody tr th:only-of-type {\n        vertical-align: middle;\n    }\n\n    .dataframe tbody tr th {\n        vertical-align: top;\n    }\n\n    .dataframe thead th {\n        text-align: right;\n    }\n</style>\n<table border=\"1\" class=\"dataframe\">\n  <thead>\n    <tr style=\"text-align: right;\">\n      <th></th>\n      <th>tripduration</th>\n      <th>starttime</th>\n      <th>stoptime</th>\n      <th>start station id</th>\n      <th>start station name</th>\n      <th>start station latitude</th>\n      <th>start station longitude</th>\n      <th>end station id</th>\n      <th>end station name</th>\n      <th>end station latitude</th>\n      <th>end station longitude</th>\n      <th>bikeid</th>\n      <th>usertype</th>\n      <th>birth year</th>\n      <th>gender</th>\n    </tr>\n  </thead>\n  <tbody>\n    <tr>\n      <th>0</th>\n      <td>266</td>\n      <td>2021-01-01 00:03:35.5100</td>\n      <td>2021-01-01 00:08:01.7770</td>\n      <td>3273</td>\n      <td>Manila &amp; 1st</td>\n      <td>40.721651</td>\n      <td>-74.042884</td>\n      <td>3209</td>\n      <td>Brunswick St</td>\n      <td>40.724176</td>\n      <td>-74.050656</td>\n      <td>42494</td>\n      <td>Subscriber</td>\n      <td>1988</td>\n      <td>1</td>\n    </tr>\n    <tr>\n      <th>1</th>\n      <td>1543</td>\n      <td>2021-01-01 00:23:32.9250</td>\n      <td>2021-01-01 00:49:16.0830</td>\n      <td>3681</td>\n      <td>Grand St</td>\n      <td>40.715178</td>\n      <td>-74.037683</td>\n      <td>3213</td>\n      <td>Van Vorst Park</td>\n      <td>40.718489</td>\n      <td>-74.047727</td>\n      <td>45343</td>\n      <td>Customer</td>\n      <td>1996</td>\n      <td>2</td>\n    </tr>\n    <tr>\n      <th>2</th>\n      <td>1461</td>\n      <td>2021-01-01 00:23:50.7940</td>\n      <td>2021-01-01 00:48:12.5660</td>\n      <td>3681</td>\n      <td>Grand St</td>\n      <td>40.715178</td>\n      <td>-74.037683</td>\n      <td>3213</td>\n      <td>Van Vorst Park</td>\n      <td>40.718489</td>\n      <td>-74.047727</td>\n      <td>31794</td>\n      <td>Customer</td>\n      <td>1995</td>\n      <td>1</td>\n    </tr>\n    <tr>\n      <th>3</th>\n      <td>793</td>\n      <td>2021-01-01 00:31:09.0770</td>\n      <td>2021-01-01 00:44:22.9430</td>\n      <td>3185</td>\n      <td>City Hall</td>\n      <td>40.717733</td>\n      <td>-74.043845</td>\n      <td>3199</td>\n      <td>Newport Pkwy</td>\n      <td>40.728745</td>\n      <td>-74.032108</td>\n      <td>42316</td>\n      <td>Customer</td>\n      <td>1969</td>\n      <td>0</td>\n    </tr>\n    <tr>\n      <th>4</th>\n      <td>596</td>\n      <td>2021-01-01 00:35:52.1900</td>\n      <td>2021-01-01 00:45:48.7740</td>\n      <td>3639</td>\n      <td>Harborside</td>\n      <td>40.719252</td>\n      <td>-74.034234</td>\n      <td>3209</td>\n      <td>Brunswick St</td>\n      <td>40.724176</td>\n      <td>-74.050656</td>\n      <td>32575</td>\n      <td>Customer</td>\n      <td>1969</td>\n      <td>0</td>\n    </tr>\n  </tbody>\n</table>\n</div>"
     },
     "metadata": {},
     "execution_count": 4
    }
   ],
   "source": [
    "jan_trip_data.head()"
   ]
  },
  {
   "cell_type": "code",
   "execution_count": 5,
   "metadata": {},
   "outputs": [],
   "source": [
    "#merge tabels\n",
    "framesII = [jan_trip_data, \n",
    "            feb_trip_data, \n",
    "            mar_trip_data, \n",
    "            ]"
   ]
  },
  {
   "cell_type": "code",
   "execution_count": 6,
   "metadata": {
    "collapsed": true
   },
   "outputs": [],
   "source": [
    "resultII = pd.concat(framesII)"
   ]
  },
  {
   "cell_type": "code",
   "execution_count": 7,
   "metadata": {
    "collapsed": true
   },
   "outputs": [],
   "source": [
    "resultII.to_csv(\"../Combined .csv/2021_trip_data.csv\")"
   ]
  },
  {
   "cell_type": "code",
   "execution_count": 8,
   "metadata": {},
   "outputs": [],
   "source": [
    " combined_csv = os.path.join(\"../Combined .csv/2021_trip_data.csv\" )\n",
    " trip_history = pd.read_csv(combined_csv)"
   ]
  },
  {
   "cell_type": "code",
   "execution_count": 9,
   "metadata": {},
   "outputs": [
    {
     "output_type": "execute_result",
     "data": {
      "text/plain": [
       "       Unnamed: 0  tripduration                 starttime  \\\n",
       "0               0           266  2021-01-01 00:03:35.5100   \n",
       "1               1          1543  2021-01-01 00:23:32.9250   \n",
       "2               2          1461  2021-01-01 00:23:50.7940   \n",
       "3               3           793  2021-01-01 00:31:09.0770   \n",
       "4               4           596  2021-01-01 00:35:52.1900   \n",
       "...           ...           ...                       ...   \n",
       "33187       16838           493  2021-03-31 23:49:04.6750   \n",
       "33188       16839           296  2021-03-31 23:49:33.7240   \n",
       "33189       16840           346  2021-03-31 23:53:36.2020   \n",
       "33190       16841           872  2021-03-31 23:54:36.3950   \n",
       "33191       16842           587  2021-03-31 23:58:04.5740   \n",
       "\n",
       "                       stoptime  start station id     start station name  \\\n",
       "0      2021-01-01 00:08:01.7770              3273           Manila & 1st   \n",
       "1      2021-01-01 00:49:16.0830              3681               Grand St   \n",
       "2      2021-01-01 00:48:12.5660              3681               Grand St   \n",
       "3      2021-01-01 00:44:22.9430              3185              City Hall   \n",
       "4      2021-01-01 00:45:48.7740              3639             Harborside   \n",
       "...                         ...               ...                    ...   \n",
       "33187  2021-03-31 23:57:17.7900              3185              City Hall   \n",
       "33188  2021-03-31 23:54:29.8450              3186          Grove St PATH   \n",
       "33189  2021-03-31 23:59:22.2370              3187              Warren St   \n",
       "33190  2021-04-01 00:09:09.1080              3193           Lincoln Park   \n",
       "33191  2021-04-01 00:07:52.2170              3225  Baldwin at Montgomery   \n",
       "\n",
       "       start station latitude  start station longitude  end station id  \\\n",
       "0                   40.721651               -74.042884            3209   \n",
       "1                   40.715178               -74.037683            3213   \n",
       "2                   40.715178               -74.037683            3213   \n",
       "3                   40.717732               -74.043845            3199   \n",
       "4                   40.719252               -74.034234            3209   \n",
       "...                       ...                      ...             ...   \n",
       "33187               40.717732               -74.043845            3192   \n",
       "33188               40.719586               -74.043117            3203   \n",
       "33189               40.721124               -74.038051            3199   \n",
       "33190               40.724605               -74.078406            3206   \n",
       "33191               40.723659               -74.064194            3276   \n",
       "\n",
       "         end station name  end station latitude  end station longitude  \\\n",
       "0            Brunswick St             40.724176             -74.050656   \n",
       "1          Van Vorst Park             40.718489             -74.047727   \n",
       "2          Van Vorst Park             40.718489             -74.047727   \n",
       "3            Newport Pkwy             40.728745             -74.032108   \n",
       "4            Brunswick St             40.724176             -74.050656   \n",
       "...                   ...                   ...                    ...   \n",
       "33187  Liberty Light Rail             40.711242             -74.055701   \n",
       "33188       Hamilton Park             40.727596             -74.044247   \n",
       "33189        Newport Pkwy             40.728745             -74.032108   \n",
       "33190             Hilltop             40.731169             -74.057574   \n",
       "33191    Marin Light Rail             40.714584             -74.042817   \n",
       "\n",
       "       bikeid    usertype  birth year  gender  \n",
       "0       42494  Subscriber        1988       1  \n",
       "1       45343    Customer        1996       2  \n",
       "2       31794    Customer        1995       1  \n",
       "3       42316    Customer        1969       0  \n",
       "4       32575    Customer        1969       0  \n",
       "...       ...         ...         ...     ...  \n",
       "33187   45261    Customer        1970       0  \n",
       "33188   45499    Customer        1970       0  \n",
       "33189   42635    Customer        1970       0  \n",
       "33190   27102    Customer        1970       0  \n",
       "33191   45940    Customer        1970       0  \n",
       "\n",
       "[33192 rows x 16 columns]"
      ],
      "text/html": "<div>\n<style scoped>\n    .dataframe tbody tr th:only-of-type {\n        vertical-align: middle;\n    }\n\n    .dataframe tbody tr th {\n        vertical-align: top;\n    }\n\n    .dataframe thead th {\n        text-align: right;\n    }\n</style>\n<table border=\"1\" class=\"dataframe\">\n  <thead>\n    <tr style=\"text-align: right;\">\n      <th></th>\n      <th>Unnamed: 0</th>\n      <th>tripduration</th>\n      <th>starttime</th>\n      <th>stoptime</th>\n      <th>start station id</th>\n      <th>start station name</th>\n      <th>start station latitude</th>\n      <th>start station longitude</th>\n      <th>end station id</th>\n      <th>end station name</th>\n      <th>end station latitude</th>\n      <th>end station longitude</th>\n      <th>bikeid</th>\n      <th>usertype</th>\n      <th>birth year</th>\n      <th>gender</th>\n    </tr>\n  </thead>\n  <tbody>\n    <tr>\n      <th>0</th>\n      <td>0</td>\n      <td>266</td>\n      <td>2021-01-01 00:03:35.5100</td>\n      <td>2021-01-01 00:08:01.7770</td>\n      <td>3273</td>\n      <td>Manila &amp; 1st</td>\n      <td>40.721651</td>\n      <td>-74.042884</td>\n      <td>3209</td>\n      <td>Brunswick St</td>\n      <td>40.724176</td>\n      <td>-74.050656</td>\n      <td>42494</td>\n      <td>Subscriber</td>\n      <td>1988</td>\n      <td>1</td>\n    </tr>\n    <tr>\n      <th>1</th>\n      <td>1</td>\n      <td>1543</td>\n      <td>2021-01-01 00:23:32.9250</td>\n      <td>2021-01-01 00:49:16.0830</td>\n      <td>3681</td>\n      <td>Grand St</td>\n      <td>40.715178</td>\n      <td>-74.037683</td>\n      <td>3213</td>\n      <td>Van Vorst Park</td>\n      <td>40.718489</td>\n      <td>-74.047727</td>\n      <td>45343</td>\n      <td>Customer</td>\n      <td>1996</td>\n      <td>2</td>\n    </tr>\n    <tr>\n      <th>2</th>\n      <td>2</td>\n      <td>1461</td>\n      <td>2021-01-01 00:23:50.7940</td>\n      <td>2021-01-01 00:48:12.5660</td>\n      <td>3681</td>\n      <td>Grand St</td>\n      <td>40.715178</td>\n      <td>-74.037683</td>\n      <td>3213</td>\n      <td>Van Vorst Park</td>\n      <td>40.718489</td>\n      <td>-74.047727</td>\n      <td>31794</td>\n      <td>Customer</td>\n      <td>1995</td>\n      <td>1</td>\n    </tr>\n    <tr>\n      <th>3</th>\n      <td>3</td>\n      <td>793</td>\n      <td>2021-01-01 00:31:09.0770</td>\n      <td>2021-01-01 00:44:22.9430</td>\n      <td>3185</td>\n      <td>City Hall</td>\n      <td>40.717732</td>\n      <td>-74.043845</td>\n      <td>3199</td>\n      <td>Newport Pkwy</td>\n      <td>40.728745</td>\n      <td>-74.032108</td>\n      <td>42316</td>\n      <td>Customer</td>\n      <td>1969</td>\n      <td>0</td>\n    </tr>\n    <tr>\n      <th>4</th>\n      <td>4</td>\n      <td>596</td>\n      <td>2021-01-01 00:35:52.1900</td>\n      <td>2021-01-01 00:45:48.7740</td>\n      <td>3639</td>\n      <td>Harborside</td>\n      <td>40.719252</td>\n      <td>-74.034234</td>\n      <td>3209</td>\n      <td>Brunswick St</td>\n      <td>40.724176</td>\n      <td>-74.050656</td>\n      <td>32575</td>\n      <td>Customer</td>\n      <td>1969</td>\n      <td>0</td>\n    </tr>\n    <tr>\n      <th>...</th>\n      <td>...</td>\n      <td>...</td>\n      <td>...</td>\n      <td>...</td>\n      <td>...</td>\n      <td>...</td>\n      <td>...</td>\n      <td>...</td>\n      <td>...</td>\n      <td>...</td>\n      <td>...</td>\n      <td>...</td>\n      <td>...</td>\n      <td>...</td>\n      <td>...</td>\n      <td>...</td>\n    </tr>\n    <tr>\n      <th>33187</th>\n      <td>16838</td>\n      <td>493</td>\n      <td>2021-03-31 23:49:04.6750</td>\n      <td>2021-03-31 23:57:17.7900</td>\n      <td>3185</td>\n      <td>City Hall</td>\n      <td>40.717732</td>\n      <td>-74.043845</td>\n      <td>3192</td>\n      <td>Liberty Light Rail</td>\n      <td>40.711242</td>\n      <td>-74.055701</td>\n      <td>45261</td>\n      <td>Customer</td>\n      <td>1970</td>\n      <td>0</td>\n    </tr>\n    <tr>\n      <th>33188</th>\n      <td>16839</td>\n      <td>296</td>\n      <td>2021-03-31 23:49:33.7240</td>\n      <td>2021-03-31 23:54:29.8450</td>\n      <td>3186</td>\n      <td>Grove St PATH</td>\n      <td>40.719586</td>\n      <td>-74.043117</td>\n      <td>3203</td>\n      <td>Hamilton Park</td>\n      <td>40.727596</td>\n      <td>-74.044247</td>\n      <td>45499</td>\n      <td>Customer</td>\n      <td>1970</td>\n      <td>0</td>\n    </tr>\n    <tr>\n      <th>33189</th>\n      <td>16840</td>\n      <td>346</td>\n      <td>2021-03-31 23:53:36.2020</td>\n      <td>2021-03-31 23:59:22.2370</td>\n      <td>3187</td>\n      <td>Warren St</td>\n      <td>40.721124</td>\n      <td>-74.038051</td>\n      <td>3199</td>\n      <td>Newport Pkwy</td>\n      <td>40.728745</td>\n      <td>-74.032108</td>\n      <td>42635</td>\n      <td>Customer</td>\n      <td>1970</td>\n      <td>0</td>\n    </tr>\n    <tr>\n      <th>33190</th>\n      <td>16841</td>\n      <td>872</td>\n      <td>2021-03-31 23:54:36.3950</td>\n      <td>2021-04-01 00:09:09.1080</td>\n      <td>3193</td>\n      <td>Lincoln Park</td>\n      <td>40.724605</td>\n      <td>-74.078406</td>\n      <td>3206</td>\n      <td>Hilltop</td>\n      <td>40.731169</td>\n      <td>-74.057574</td>\n      <td>27102</td>\n      <td>Customer</td>\n      <td>1970</td>\n      <td>0</td>\n    </tr>\n    <tr>\n      <th>33191</th>\n      <td>16842</td>\n      <td>587</td>\n      <td>2021-03-31 23:58:04.5740</td>\n      <td>2021-04-01 00:07:52.2170</td>\n      <td>3225</td>\n      <td>Baldwin at Montgomery</td>\n      <td>40.723659</td>\n      <td>-74.064194</td>\n      <td>3276</td>\n      <td>Marin Light Rail</td>\n      <td>40.714584</td>\n      <td>-74.042817</td>\n      <td>45940</td>\n      <td>Customer</td>\n      <td>1970</td>\n      <td>0</td>\n    </tr>\n  </tbody>\n</table>\n<p>33192 rows × 16 columns</p>\n</div>"
     },
     "metadata": {},
     "execution_count": 9
    }
   ],
   "source": [
    "trip_history"
   ]
  },
  {
   "cell_type": "code",
   "execution_count": 10,
   "metadata": {},
   "outputs": [
    {
     "output_type": "execute_result",
     "data": {
      "text/plain": [
       "Unnamed: 0                 33192\n",
       "tripduration               33192\n",
       "starttime                  33192\n",
       "stoptime                   33192\n",
       "start station id           33192\n",
       "start station name         33192\n",
       "start station latitude     33192\n",
       "start station longitude    33192\n",
       "end station id             33192\n",
       "end station name           33192\n",
       "end station latitude       33192\n",
       "end station longitude      33192\n",
       "bikeid                     33192\n",
       "usertype                   33192\n",
       "birth year                 33192\n",
       "gender                     33192\n",
       "dtype: int64"
      ]
     },
     "metadata": {},
     "execution_count": 10
    }
   ],
   "source": [
    "trip_history.count()"
   ]
  },
  {
   "cell_type": "code",
   "execution_count": null,
   "metadata": {
    "collapsed": true
   },
   "outputs": [],
   "source": []
  }
 ],
 "metadata": {
  "kernelspec": {
   "name": "python383jvsc74a57bd05871f9ceaeb58903a062280df9e35c51c3f2838963fa6a6e83036660d9d47fa0",
   "display_name": "Python 3.8.3 64-bit (conda)"
  },
  "language_info": {
   "codemirror_mode": {
    "name": "ipython",
    "version": 3
   },
   "file_extension": ".py",
   "mimetype": "text/x-python",
   "name": "python",
   "nbconvert_exporter": "python",
   "pygments_lexer": "ipython3",
   "version": "3.8.3"
  }
 },
 "nbformat": 4,
 "nbformat_minor": 2
}